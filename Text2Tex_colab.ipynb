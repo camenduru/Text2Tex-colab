{
  "cells": [
    {
      "cell_type": "markdown",
      "metadata": {
        "id": "view-in-github"
      },
      "source": [
        "[![Open In Colab](https://colab.research.google.com/assets/colab-badge.svg)](https://colab.research.google.com/github/camenduru/Text2Tex-colab/blob/main/Text2Tex_colab.ipynb)"
      ]
    },
    {
      "cell_type": "code",
      "execution_count": null,
      "metadata": {
        "id": "VjYy0F2gZIPR"
      },
      "outputs": [],
      "source": [
        "!git clone -b dev https://github.com/camenduru/Text2Tex\n",
        "%cd /content/Text2Tex\n",
        "!pip install -q trimesh diffusers einops transformers open-clip-torch gradio pytorch-lightning omegaconf accelerate xformers==0.0.20\n",
        "!pip install -q https://huggingface.co/camenduru/pytorch3d-build/resolve/main/pytorch3d-0.7.4-cp310-cp310-linux_x86_64.whl\n",
        "\n",
        "!apt -y install -qq aria2\n",
        "!aria2c --console-log-level=error -c -x 16 -s 16 -k 1M https://huggingface.co/lllyasviel/ControlNet/resolve/main/models/control_sd15_depth.pth -d /content/Text2Tex/models/ControlNet/models -o control_sd15_depth.pth\n",
        "\n",
        "!./bash/run.sh"
      ]
    },
    {
      "cell_type": "code",
      "execution_count": null,
      "metadata": {},
      "outputs": [],
      "source": [
        "!python scripts/normalize_mesh.py --input_dir /content/Text2Tex/Text2Tex/data/backpack/ --obj_name mesh"
      ]
    },
    {
      "cell_type": "code",
      "execution_count": null,
      "metadata": {},
      "outputs": [],
      "source": [
        "!python scripts/rotate_mesh.py --input_dir /content/Text2Tex/Text2Tex/data/backpack/ --obj_name mesh --plane xy --deg 0"
      ]
    },
    {
      "cell_type": "code",
      "execution_count": null,
      "metadata": {},
      "outputs": [],
      "source": [
        "!python scripts/generate_texture.py \\\n",
        "    --input_dir /content/Text2Tex/Text2Tex/data/backpack \\\n",
        "    --output_dir outputs/test \\\n",
        "    --obj_name backpack \\\n",
        "    --obj_file mesh_normalized.obj \\\n",
        "    --prompt \"red floral texture backpack\" \\\n",
        "    --add_view_to_prompt \\\n",
        "    --ddim_steps 50 \\\n",
        "    --new_strength 1 \\\n",
        "    --update_strength 0.3 \\\n",
        "    --view_threshold 0.1 \\\n",
        "    --blend 0 \\\n",
        "    --dist 1 \\\n",
        "    --num_viewpoints 36 \\\n",
        "    --viewpoint_mode predefined \\\n",
        "    --use_principle \\\n",
        "    --update_steps 20 \\\n",
        "    --update_mode heuristic \\\n",
        "    --seed 42 \\\n",
        "    --post_process \\\n",
        "    --device 2080 \\\n",
        "    --use_objaverse # assume the mesh is normalized with y-axis as up"
      ]
    }
  ],
  "metadata": {
    "accelerator": "GPU",
    "colab": {
      "gpuType": "T4",
      "provenance": []
    },
    "kernelspec": {
      "display_name": "Python 3",
      "name": "python3"
    },
    "language_info": {
      "name": "python"
    }
  },
  "nbformat": 4,
  "nbformat_minor": 0
}
